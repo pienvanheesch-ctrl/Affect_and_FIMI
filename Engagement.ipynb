{
 "cells": [
  {
   "cell_type": "code",
   "execution_count": 2,
   "id": "dfbd311e-7242-4df7-907d-4f97170af14b",
   "metadata": {},
   "outputs": [],
   "source": [
    "import os\n",
    "import pandas as pd\n",
    "from tqdm import tqdm\n",
    "import matplotlib.pyplot as plt\n",
    "import numpy as np\n",
    "tqdm.pandas()"
   ]
  },
  {
   "cell_type": "code",
   "execution_count": 13,
   "id": "c16cee6f-d13a-4186-8358-ef468415d976",
   "metadata": {},
   "outputs": [],
   "source": [
    "#channels organized by results of sentiment.py for continuity, subscriber counts gained from Telegram.com\n",
    "channel_name = {\n",
    "    'blckbxtv': 19337, \n",
    "    'RinusVerhagen' : 5893,\n",
    "    'deguldenmiddenweg': 9297,\n",
    "    'Mariba2puntnul' : 968,\n",
    "    'truthned' : 430,\n",
    "    'InfodefenseNED': 1032,\n",
    "    'FVDNL': 22088,\n",
    "    'berichten_uit_donbass':3868, \n",
    "    'wietsenijboer':2371, \n",
    "    'ministerievanwaarheid' : 2788, \n",
    "    'ditishetnieuws': 12491, \n",
    "    'Gerrit_Brendel': 7205, \n",
    "    'Openbaringen': 3629, \n",
    "    'NieuwsvoorNederlanders' : 399, \n",
    "    'hetkantelpunt': 9132, \n",
    "    'vmGeluid': 11001,\n",
    "    'ninefornews': 17926\n",
    "}\n",
    "\n"
   ]
  },
  {
   "cell_type": "code",
   "execution_count": 16,
   "id": "988f4fd0-50c4-40b6-9106-7abdb794c731",
   "metadata": {},
   "outputs": [],
   "source": [
    "engagement = pd.DataFrame(columns=['channel', 'n_posts', 'n_forwards', 'n_views', 'subscribers'])"
   ]
  },
  {
   "cell_type": "code",
   "execution_count": 18,
   "id": "341e697a-c9f9-4fbb-a585-af88a198bb86",
   "metadata": {
    "collapsed": true,
    "jupyter": {
     "outputs_hidden": true
    }
   },
   "outputs": [
    {
     "name": "stderr",
     "output_type": "stream",
     "text": [
      "  0%|                                                                                           | 0/17 [00:00<?, ?it/s]"
     ]
    },
    {
     "name": "stdout",
     "output_type": "stream",
     "text": [
      "current channel: blckbxtv\n"
     ]
    },
    {
     "name": "stderr",
     "output_type": "stream",
     "text": [
      "C:\\Users\\Gebruiken\\AppData\\Local\\Temp\\ipykernel_17392\\561910995.py:15: FutureWarning: The behavior of DataFrame concatenation with empty or all-NA entries is deprecated. In a future version, this will no longer exclude empty or all-NA columns when determining the result dtypes. To retain the old behavior, exclude the relevant entries before the concat operation.\n",
      "  engagement = pd.concat([engagement, pd.DataFrame([\n",
      "  6%|████▉                                                                              | 1/17 [00:06<01:46,  6.64s/it]"
     ]
    },
    {
     "name": "stdout",
     "output_type": "stream",
     "text": [
      "current channel: RinusVerhagen\n"
     ]
    },
    {
     "name": "stderr",
     "output_type": "stream",
     "text": [
      "C:\\Users\\Gebruiken\\AppData\\Local\\Temp\\ipykernel_17392\\561910995.py:7: DtypeWarning: Columns (14) have mixed types. Specify dtype option on import or set low_memory=False.\n",
      "  df = pd.read_csv(path, sep = '\\t')\n",
      " 12%|█████████▊                                                                         | 2/17 [01:06<09:28, 37.90s/it]"
     ]
    },
    {
     "name": "stdout",
     "output_type": "stream",
     "text": [
      "current channel: deguldenmiddenweg\n"
     ]
    },
    {
     "name": "stderr",
     "output_type": "stream",
     "text": [
      "C:\\Users\\Gebruiken\\AppData\\Local\\Temp\\ipykernel_17392\\561910995.py:7: DtypeWarning: Columns (14) have mixed types. Specify dtype option on import or set low_memory=False.\n",
      "  df = pd.read_csv(path, sep = '\\t')\n",
      " 18%|██████████████▋                                                                    | 3/17 [02:45<15:24, 66.05s/it]"
     ]
    },
    {
     "name": "stdout",
     "output_type": "stream",
     "text": [
      "current channel: Mariba2puntnul\n"
     ]
    },
    {
     "name": "stderr",
     "output_type": "stream",
     "text": [
      " 24%|███████████████████▌                                                               | 4/17 [03:10<10:44, 49.56s/it]"
     ]
    },
    {
     "name": "stdout",
     "output_type": "stream",
     "text": [
      "current channel: truthned\n"
     ]
    },
    {
     "name": "stderr",
     "output_type": "stream",
     "text": [
      " 29%|████████████████████████▍                                                          | 5/17 [03:27<07:33, 37.80s/it]"
     ]
    },
    {
     "name": "stdout",
     "output_type": "stream",
     "text": [
      "current channel: InfodefenseNED\n"
     ]
    },
    {
     "name": "stderr",
     "output_type": "stream",
     "text": [
      " 35%|█████████████████████████████▎                                                     | 6/17 [03:36<05:09, 28.09s/it]"
     ]
    },
    {
     "name": "stdout",
     "output_type": "stream",
     "text": [
      "current channel: FVDNL\n"
     ]
    },
    {
     "name": "stderr",
     "output_type": "stream",
     "text": [
      " 41%|██████████████████████████████████▏                                                | 7/17 [03:43<03:32, 21.28s/it]"
     ]
    },
    {
     "name": "stdout",
     "output_type": "stream",
     "text": [
      "current channel: berichten_uit_donbass\n"
     ]
    },
    {
     "name": "stderr",
     "output_type": "stream",
     "text": [
      " 47%|███████████████████████████████████████                                            | 8/17 [04:02<03:04, 20.47s/it]"
     ]
    },
    {
     "name": "stdout",
     "output_type": "stream",
     "text": [
      "current channel: wietsenijboer\n"
     ]
    },
    {
     "name": "stderr",
     "output_type": "stream",
     "text": [
      " 53%|███████████████████████████████████████████▉                                       | 9/17 [04:19<02:35, 19.40s/it]"
     ]
    },
    {
     "name": "stdout",
     "output_type": "stream",
     "text": [
      "current channel: ministerievanwaarheid\n"
     ]
    },
    {
     "name": "stderr",
     "output_type": "stream",
     "text": [
      " 59%|████████████████████████████████████████████████▏                                 | 10/17 [04:25<01:47, 15.40s/it]"
     ]
    },
    {
     "name": "stdout",
     "output_type": "stream",
     "text": [
      "current channel: ditishetnieuws\n"
     ]
    },
    {
     "name": "stderr",
     "output_type": "stream",
     "text": [
      " 65%|█████████████████████████████████████████████████████                             | 11/17 [04:48<01:44, 17.48s/it]"
     ]
    },
    {
     "name": "stdout",
     "output_type": "stream",
     "text": [
      "current channel: Gerrit_Brendel\n"
     ]
    },
    {
     "name": "stderr",
     "output_type": "stream",
     "text": [
      " 71%|█████████████████████████████████████████████████████████▉                        | 12/17 [04:54<01:10, 14.02s/it]"
     ]
    },
    {
     "name": "stdout",
     "output_type": "stream",
     "text": [
      "current channel: Openbaringen\n"
     ]
    },
    {
     "name": "stderr",
     "output_type": "stream",
     "text": [
      " 76%|██████████████████████████████████████████████████████████████▋                   | 13/17 [05:02<00:48, 12.18s/it]"
     ]
    },
    {
     "name": "stdout",
     "output_type": "stream",
     "text": [
      "current channel: NieuwsvoorNederlanders\n"
     ]
    },
    {
     "name": "stderr",
     "output_type": "stream",
     "text": [
      " 82%|███████████████████████████████████████████████████████████████████▌              | 14/17 [05:14<00:36, 12.18s/it]"
     ]
    },
    {
     "name": "stdout",
     "output_type": "stream",
     "text": [
      "current channel: hetkantelpunt\n"
     ]
    },
    {
     "name": "stderr",
     "output_type": "stream",
     "text": [
      " 88%|████████████████████████████████████████████████████████████████████████▎         | 15/17 [05:21<00:21, 10.57s/it]"
     ]
    },
    {
     "name": "stdout",
     "output_type": "stream",
     "text": [
      "current channel: vmGeluid\n"
     ]
    },
    {
     "name": "stderr",
     "output_type": "stream",
     "text": [
      " 94%|█████████████████████████████████████████████████████████████████████████████▏    | 16/17 [05:35<00:11, 11.56s/it]"
     ]
    },
    {
     "name": "stdout",
     "output_type": "stream",
     "text": [
      "current channel: ninefornews\n"
     ]
    },
    {
     "name": "stderr",
     "output_type": "stream",
     "text": [
      "100%|██████████████████████████████████████████████████████████████████████████████████| 17/17 [05:41<00:00, 20.08s/it]"
     ]
    },
    {
     "name": "stdout",
     "output_type": "stream",
     "text": [
      "19337\n",
      "5893\n",
      "9297\n",
      "968\n",
      "430\n",
      "1032\n",
      "22088\n",
      "3868\n",
      "2371\n",
      "2788\n",
      "12491\n",
      "7205\n",
      "3629\n",
      "399\n",
      "9132\n",
      "11001\n",
      "17926\n"
     ]
    },
    {
     "name": "stderr",
     "output_type": "stream",
     "text": [
      "\n"
     ]
    }
   ],
   "source": [
    "path_base = 'S:\\\\ERP Raw Data\\\\pien'\n",
    "date_cutoff = pd.to_datetime('2024-10-03 19:50:45+00:00')\n",
    "for channel in tqdm(channel_name):\n",
    "    #get tsv file\n",
    "    print(f'current channel: {channel}')\n",
    "    path = os.path.join(path_base, channel + '_table.tsv')\n",
    "    df = pd.read_csv(path, sep = '\\t')\n",
    "    df['message_date'] = pd.to_datetime(df['message_date'], errors='coerce', utc=True)\n",
    "    df = df[df['message_date'] > date_cutoff]\n",
    "\n",
    "    if df.empty:\n",
    "        continue  \n",
    "\n",
    "    \n",
    "    engagement = pd.concat([engagement, pd.DataFrame([\n",
    "        {\n",
    "            'channel' : channel,\n",
    "            'n_posts' : len(df),\n",
    "            'n_forwards' : df[\"forwards\"].sum(),\n",
    "            'n_views' : df[\"views\"].sum(),\n",
    "            'subscribers' : channel_name[channel]\n",
    "        }\n",
    "    ])\n",
    "        ], ignore_index = True)\n",
    "\n"
   ]
  },
  {
   "cell_type": "code",
   "execution_count": 19,
   "id": "7b2f1498-2ae9-483c-8d72-f5dce3f96926",
   "metadata": {},
   "outputs": [],
   "source": [
    "covid = [\n",
    "    'deguldenmiddenweg', \n",
    "    'derdekamer', \n",
    "    'ditishetnieuws', \n",
    "    'FVDNL', \n",
    "    'Gerrit_Brendel',\n",
    "    'NieuwsvoorNederlanders',\n",
    "    'ninefornews'\n",
    "]\n",
    "\n",
    "\n",
    "ukraine = [\n",
    "    'berichten_uit_donbass', \n",
    "    'blckbxtv',\n",
    "    'InfodefenseNED', \n",
    "    'Mariba2puntnul', \n",
    "    'ministerievanwaarheid',\n",
    "    'RinusVerhagen',\n",
    "    'truthned', \n",
    "    'wietsenijboer'\n",
    "]\n",
    "\n",
    "\n",
    "mixed = [\n",
    "    'hetkantelpunt', \n",
    "    'Openbaringen', \n",
    "    'talktomem', \n",
    "    'vmGeluid' \n",
    "]"
   ]
  },
  {
   "cell_type": "code",
   "execution_count": 20,
   "id": "af68945b-c463-450b-9efe-599567a7cbe1",
   "metadata": {},
   "outputs": [],
   "source": [
    "#calculate relative engagement: engagement per subscriber\n",
    "#n_views / subscribers / n_posts\n",
    "#n_forwards / subscribers / n_posts\n",
    "\n",
    "engagement['relative_forwards'] = engagement['n_forwards'] / ( engagement['subscribers'] * engagement['n_posts'] )\n",
    "\n",
    "engagement['relative_views'] = engagement['n_views'] / ( engagement['subscribers'] * engagement['n_posts'] )\n",
    "\n",
    "\n"
   ]
  },
  {
   "cell_type": "code",
   "execution_count": 23,
   "id": "4040ee1e-aa5e-4137-8cc6-cc2b7bcfccfe",
   "metadata": {},
   "outputs": [
    {
     "data": {
      "image/png": "[encoded data removed]",
      "text/plain": [
       "<Figure size 1000x800 with 2 Axes>"
      ]
     },
     "metadata": {},
     "output_type": "display_data"
    }
   ],
   "source": [
    "#Visualization of relative engagement per channel\n",
    "import matplotlib.pyplot as plt\n",
    "import numpy as np\n",
    "\n",
    "colors = ['crimson', 'steelblue']\n",
    "plt.rcParams['font.family'] = 'Times New Roman'\n",
    "cats = engagement['channel'] \n",
    "vals = {\n",
    "    'relative forwards': engagement['relative_forwards'],\n",
    "    'relative views': engagement['relative_views'],\n",
    "\n",
    "\n",
    "    \n",
    "}\n",
    "\n",
    "x = np.arange(len(cats))\n",
    "\n",
    "\n",
    "fig, axes = plt.subplots(nrows=2, ncols=1, figsize=(10, 8), constrained_layout=True)\n",
    "axes = axes.flatten() \n",
    "\n",
    "for ax, ((label, value), color) in zip(axes, zip(vals.items(), colors)):\n",
    "    rects = ax.bar(x, value, width=0.6, label=x +1, color=color)\n",
    "\n",
    "    ax.set_title(label, fontsize=12)\n",
    "    ax.set_xticks(x)\n",
    "    ax.set_xticklabels(x+1, rotation=0, ha='right')\n",
    " \n",
    "    ax.set_ylabel(\"Amount\")\n",
    "\n",
    "plt.suptitle(\"Figure 2: Engagement per Channel\", x= 0.525, fontsize=16)\n",
    "plt.savefig('engagement.png')\n",
    "\n"
   ]
  },
  {
   "cell_type": "code",
   "execution_count": null,
   "id": "5c54eaf6-12de-4a24-aab8-f5ba0260cfce",
   "metadata": {},
   "outputs": [],
   "source": [
    "#visualize negative and positive average sentiment\n",
    "import matplotlib.pyplot as plt\n",
    "import numpy as np\n",
    "\n",
    "colors = ['crimson', 'steelblue']\n",
    "plt.rcParams['font.family'] = 'Times New Roman'\n",
    "cats = engagement['channel_name'] \n",
    "vals = {\n",
    "    'negative average': engagement['negative_avg'],\n",
    "    'positive average': engagement['positive_avg']\n",
    "\n",
    "\n",
    "    \n",
    "}\n",
    "\n",
    "x = np.arange(len(cats))\n",
    "\n",
    "\n",
    "fig, axes = plt.subplots(nrows=2, ncols=1, figsize=(10, 8), constrained_layout=True)\n",
    "axes = axes.flatten() \n",
    "\n",
    "for ax, ((label, value), color) in zip(axes, zip(vals.items(), colors)):\n",
    "    rects = ax.bar(x, value, width=0.6, label=x +1, color=color)\n",
    "    ax.set_title(label, fontsize=12)\n",
    "    ax.set_xticks(x)\n",
    "    ax.set_xticklabels(x+1, rotation=0, ha='right')\n",
    "    ax.set_ylim(0.4,0.6)\n",
    " \n",
    "    ax.set_ylabel(\"Amount\")\n",
    "\n",
    "\n",
    "plt.suptitle(\"Figure 1.2: Negative and Positive Averages\", x= 0.525, fontsize=16)\n",
    "plt.savefig('Negative & Positive Average.png')\n"
   ]
  }
 ],
 "metadata": {
  "kernelspec": {
   "display_name": "Python 3 (ipykernel)",
   "language": "python",
   "name": "python3"
  },
  "language_info": {
   "codemirror_mode": {
    "name": "ipython",
    "version": 3
   },
   "file_extension": ".py",
   "mimetype": "text/x-python",
   "name": "python",
   "nbconvert_exporter": "python",
   "pygments_lexer": "ipython3",
   "version": "3.11.11"
  }
 },
 "nbformat": 4,
 "nbformat_minor": 5
}
